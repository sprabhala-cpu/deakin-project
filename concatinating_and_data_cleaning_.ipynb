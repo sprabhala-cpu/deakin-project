{
  "nbformat": 4,
  "nbformat_minor": 0,
  "metadata": {
    "colab": {
      "name": "concatinating and data cleaning .ipynb",
      "provenance": [],
      "mount_file_id": "102a8S9AYjvkmxnfYMs32QG-L6VR80erH",
      "authorship_tag": "ABX9TyOGo7r+j3XSRNImUIKkQsiX",
      "include_colab_link": true
    },
    "kernelspec": {
      "name": "python3",
      "display_name": "Python 3"
    },
    "language_info": {
      "name": "python"
    }
  },
  "cells": [
    {
      "cell_type": "markdown",
      "metadata": {
        "id": "view-in-github",
        "colab_type": "text"
      },
      "source": [
        "<a href=\"https://colab.research.google.com/github/sprabhala-cpu/deakin-project/blob/main/concatinating_and_data_cleaning_.ipynb\" target=\"_parent\"><img src=\"https://colab.research.google.com/assets/colab-badge.svg\" alt=\"Open In Colab\"/></a>"
      ]
    },
    {
      "cell_type": "code",
      "metadata": {
        "id": "xVrj0j0fREyK"
      },
      "source": [
        "import pandas as pd\n"
      ],
      "execution_count": 1,
      "outputs": []
    },
    {
      "cell_type": "code",
      "metadata": {
        "id": "qNdRhAyERRb3"
      },
      "source": [
        "df1=pd.read_csv('/content/drive/MyDrive/final cleaned/2004.csv')"
      ],
      "execution_count": 6,
      "outputs": []
    },
    {
      "cell_type": "code",
      "metadata": {
        "id": "7EeNIzFORWB-"
      },
      "source": [
        "df2=pd.read_csv('/content/drive/MyDrive/final cleaned/2005.csv')"
      ],
      "execution_count": 7,
      "outputs": []
    },
    {
      "cell_type": "code",
      "metadata": {
        "id": "6cPpFMo2RYfJ"
      },
      "source": [
        "\n",
        "df3=pd.read_csv('/content/drive/MyDrive/final cleaned/2006.csv')"
      ],
      "execution_count": 8,
      "outputs": []
    },
    {
      "cell_type": "code",
      "metadata": {
        "id": "jH04pSP5RpiD"
      },
      "source": [
        "df4=pd.read_csv('/content/drive/MyDrive/final cleaned/2007.csv')"
      ],
      "execution_count": 9,
      "outputs": []
    },
    {
      "cell_type": "code",
      "metadata": {
        "id": "PfRDok_QRvuT"
      },
      "source": [
        "df=pd.concat([df1,df2,df3,df4])"
      ],
      "execution_count": 12,
      "outputs": []
    },
    {
      "cell_type": "code",
      "metadata": {
        "id": "EvQ3MxBZR1Og"
      },
      "source": [
        "df.to_csv('/content/drive/MyDrive/final cleaned/final.csv')"
      ],
      "execution_count": 19,
      "outputs": []
    },
    {
      "cell_type": "code",
      "metadata": {
        "id": "donC4EMXR-o_"
      },
      "source": [
        "data=pd.read_csv('/content/drive/MyDrive/final cleaned/final.csv',parse_dates=['date_time'])"
      ],
      "execution_count": 21,
      "outputs": []
    },
    {
      "cell_type": "code",
      "metadata": {
        "id": "avQWKN60TJd1"
      },
      "source": [
        "data.drop(['Unnamed: 0','Unnamed: 0.1'],axis=1,inplace=True)"
      ],
      "execution_count": 24,
      "outputs": []
    },
    {
      "cell_type": "code",
      "metadata": {
        "colab": {
          "base_uri": "https://localhost:8080/",
          "height": 586
        },
        "id": "BcW1wuT5TQbT",
        "outputId": "c4b02bb1-50e3-4623-edad-f4318d17826a"
      },
      "source": [
        "data"
      ],
      "execution_count": 25,
      "outputs": [
        {
          "output_type": "execute_result",
          "data": {
            "text/html": [
              "<div>\n",
              "<style scoped>\n",
              "    .dataframe tbody tr th:only-of-type {\n",
              "        vertical-align: middle;\n",
              "    }\n",
              "\n",
              "    .dataframe tbody tr th {\n",
              "        vertical-align: top;\n",
              "    }\n",
              "\n",
              "    .dataframe thead th {\n",
              "        text-align: right;\n",
              "    }\n",
              "</style>\n",
              "<table border=\"1\" class=\"dataframe\">\n",
              "  <thead>\n",
              "    <tr style=\"text-align: right;\">\n",
              "      <th></th>\n",
              "      <th>date_time</th>\n",
              "      <th>Ampl, Re  (NWC)</th>\n",
              "      <th>phase, Re (NWC)</th>\n",
              "      <th>Ampl, Re  (NPM)</th>\n",
              "      <th>phase, Re (NPM)</th>\n",
              "      <th>Ampl, Re  (JJI)</th>\n",
              "      <th>phase, Re (JJI)</th>\n",
              "      <th>Ampl, Re  (JJY)</th>\n",
              "      <th>phase, Re (JJY)</th>\n",
              "    </tr>\n",
              "  </thead>\n",
              "  <tbody>\n",
              "    <tr>\n",
              "      <th>0</th>\n",
              "      <td>2004-07-31 23:59:00</td>\n",
              "      <td>38.91</td>\n",
              "      <td>162.14</td>\n",
              "      <td>71.52</td>\n",
              "      <td>-118.31</td>\n",
              "      <td>72.29</td>\n",
              "      <td>-75.76</td>\n",
              "      <td>63.74</td>\n",
              "      <td>124.08</td>\n",
              "    </tr>\n",
              "    <tr>\n",
              "      <th>1</th>\n",
              "      <td>2004-07-31 23:59:00</td>\n",
              "      <td>38.91</td>\n",
              "      <td>150.82</td>\n",
              "      <td>71.50</td>\n",
              "      <td>-118.14</td>\n",
              "      <td>71.62</td>\n",
              "      <td>135.70</td>\n",
              "      <td>64.03</td>\n",
              "      <td>124.08</td>\n",
              "    </tr>\n",
              "    <tr>\n",
              "      <th>2</th>\n",
              "      <td>2004-07-31 23:59:00</td>\n",
              "      <td>38.40</td>\n",
              "      <td>152.02</td>\n",
              "      <td>71.51</td>\n",
              "      <td>-116.37</td>\n",
              "      <td>71.88</td>\n",
              "      <td>-0.11</td>\n",
              "      <td>64.29</td>\n",
              "      <td>124.23</td>\n",
              "    </tr>\n",
              "    <tr>\n",
              "      <th>3</th>\n",
              "      <td>2004-07-31 23:59:00</td>\n",
              "      <td>38.71</td>\n",
              "      <td>172.66</td>\n",
              "      <td>71.52</td>\n",
              "      <td>-113.99</td>\n",
              "      <td>70.70</td>\n",
              "      <td>-138.96</td>\n",
              "      <td>64.23</td>\n",
              "      <td>124.08</td>\n",
              "    </tr>\n",
              "    <tr>\n",
              "      <th>4</th>\n",
              "      <td>2004-07-31 23:59:00</td>\n",
              "      <td>39.19</td>\n",
              "      <td>177.88</td>\n",
              "      <td>71.50</td>\n",
              "      <td>-109.26</td>\n",
              "      <td>71.83</td>\n",
              "      <td>74.30</td>\n",
              "      <td>64.16</td>\n",
              "      <td>124.08</td>\n",
              "    </tr>\n",
              "    <tr>\n",
              "      <th>...</th>\n",
              "      <td>...</td>\n",
              "      <td>...</td>\n",
              "      <td>...</td>\n",
              "      <td>...</td>\n",
              "      <td>...</td>\n",
              "      <td>...</td>\n",
              "      <td>...</td>\n",
              "      <td>...</td>\n",
              "      <td>...</td>\n",
              "    </tr>\n",
              "    <tr>\n",
              "      <th>6177535</th>\n",
              "      <td>2007-10-29 00:59:00</td>\n",
              "      <td>0.00</td>\n",
              "      <td>0.00</td>\n",
              "      <td>0.00</td>\n",
              "      <td>0.00</td>\n",
              "      <td>0.00</td>\n",
              "      <td>0.00</td>\n",
              "      <td>0.00</td>\n",
              "      <td>0.00</td>\n",
              "    </tr>\n",
              "    <tr>\n",
              "      <th>6177536</th>\n",
              "      <td>2007-10-29 00:59:00</td>\n",
              "      <td>0.00</td>\n",
              "      <td>0.00</td>\n",
              "      <td>0.00</td>\n",
              "      <td>0.00</td>\n",
              "      <td>0.00</td>\n",
              "      <td>0.00</td>\n",
              "      <td>0.00</td>\n",
              "      <td>0.00</td>\n",
              "    </tr>\n",
              "    <tr>\n",
              "      <th>6177537</th>\n",
              "      <td>2007-10-29 00:59:00</td>\n",
              "      <td>0.00</td>\n",
              "      <td>0.00</td>\n",
              "      <td>0.00</td>\n",
              "      <td>0.00</td>\n",
              "      <td>0.00</td>\n",
              "      <td>0.00</td>\n",
              "      <td>0.00</td>\n",
              "      <td>0.00</td>\n",
              "    </tr>\n",
              "    <tr>\n",
              "      <th>6177538</th>\n",
              "      <td>2007-10-29 00:59:00</td>\n",
              "      <td>0.00</td>\n",
              "      <td>0.00</td>\n",
              "      <td>0.00</td>\n",
              "      <td>0.00</td>\n",
              "      <td>0.00</td>\n",
              "      <td>0.00</td>\n",
              "      <td>0.00</td>\n",
              "      <td>0.00</td>\n",
              "    </tr>\n",
              "    <tr>\n",
              "      <th>6177539</th>\n",
              "      <td>2007-10-29 00:59:00</td>\n",
              "      <td>0.00</td>\n",
              "      <td>0.00</td>\n",
              "      <td>0.00</td>\n",
              "      <td>0.00</td>\n",
              "      <td>0.00</td>\n",
              "      <td>0.00</td>\n",
              "      <td>0.00</td>\n",
              "      <td>0.00</td>\n",
              "    </tr>\n",
              "  </tbody>\n",
              "</table>\n",
              "<p>6177540 rows × 9 columns</p>\n",
              "</div>"
            ],
            "text/plain": [
              "                  date_time  Ampl, Re  (NWC)  ...  Ampl, Re  (JJY)  phase, Re (JJY)\n",
              "0       2004-07-31 23:59:00            38.91  ...            63.74           124.08\n",
              "1       2004-07-31 23:59:00            38.91  ...            64.03           124.08\n",
              "2       2004-07-31 23:59:00            38.40  ...            64.29           124.23\n",
              "3       2004-07-31 23:59:00            38.71  ...            64.23           124.08\n",
              "4       2004-07-31 23:59:00            39.19  ...            64.16           124.08\n",
              "...                     ...              ...  ...              ...              ...\n",
              "6177535 2007-10-29 00:59:00             0.00  ...             0.00             0.00\n",
              "6177536 2007-10-29 00:59:00             0.00  ...             0.00             0.00\n",
              "6177537 2007-10-29 00:59:00             0.00  ...             0.00             0.00\n",
              "6177538 2007-10-29 00:59:00             0.00  ...             0.00             0.00\n",
              "6177539 2007-10-29 00:59:00             0.00  ...             0.00             0.00\n",
              "\n",
              "[6177540 rows x 9 columns]"
            ]
          },
          "metadata": {
            "tags": []
          },
          "execution_count": 25
        }
      ]
    },
    {
      "cell_type": "code",
      "metadata": {
        "id": "Q8p-V-FfTgCZ"
      },
      "source": [
        "data.to_csv('/content/drive/MyDrive/final cleaned/final1.csv')"
      ],
      "execution_count": 29,
      "outputs": []
    },
    {
      "cell_type": "code",
      "metadata": {
        "id": "TINBV-9ZTkf1"
      },
      "source": [
        ""
      ],
      "execution_count": null,
      "outputs": []
    }
  ]
}